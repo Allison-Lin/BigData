{
  "nbformat": 4,
  "nbformat_minor": 0,
  "metadata": {
    "colab": {
      "name": "assignment1",
      "provenance": [],
      "collapsed_sections": [],
      "include_colab_link": true
    },
    "kernelspec": {
      "name": "ir",
      "display_name": "R"
    }
  },
  "cells": [
    {
      "cell_type": "markdown",
      "metadata": {
        "id": "view-in-github",
        "colab_type": "text"
      },
      "source": [
        "<a href=\"https://colab.research.google.com/github/Allison-Lin/BigData/blob/master/assignment1.ipynb\" target=\"_parent\"><img src=\"https://colab.research.google.com/assets/colab-badge.svg\" alt=\"Open In Colab\"/></a>"
      ]
    },
    {
      "cell_type": "code",
      "metadata": {
        "id": "f3NBN295Wh-a",
        "colab_type": "code",
        "colab": {
          "base_uri": "https://localhost:8080/",
          "height": 34
        },
        "outputId": "45461ca8-0335-4302-eddc-36aa5ed704f8"
      },
      "source": [
        "class(7)"
      ],
      "execution_count": null,
      "outputs": [
        {
          "output_type": "display_data",
          "data": {
            "text/plain": [
              "[1] \"numeric\""
            ],
            "text/latex": "'numeric'",
            "text/markdown": "'numeric'",
            "text/html": [
              "'numeric'"
            ]
          },
          "metadata": {
            "tags": []
          }
        }
      ]
    },
    {
      "cell_type": "code",
      "metadata": {
        "id": "QK_69-jGXTPi",
        "colab_type": "code",
        "colab": {
          "base_uri": "https://localhost:8080/",
          "height": 34
        },
        "outputId": "656944b9-72ae-4b76-b86a-0a6a75c06c02"
      },
      "source": [
        "class(\"hi\")"
      ],
      "execution_count": null,
      "outputs": [
        {
          "output_type": "display_data",
          "data": {
            "text/plain": [
              "[1] \"character\""
            ],
            "text/latex": "'character'",
            "text/markdown": "'character'",
            "text/html": [
              "'character'"
            ]
          },
          "metadata": {
            "tags": []
          }
        }
      ]
    },
    {
      "cell_type": "code",
      "metadata": {
        "id": "PVJ_yTPUXi1S",
        "colab_type": "code",
        "colab": {
          "base_uri": "https://localhost:8080/",
          "height": 34
        },
        "outputId": "a857cd96-6b86-40fb-cd70-889f7d171815"
      },
      "source": [
        "8+7"
      ],
      "execution_count": null,
      "outputs": [
        {
          "output_type": "display_data",
          "data": {
            "text/plain": [
              "[1] 15"
            ],
            "text/latex": "15",
            "text/markdown": "15",
            "text/html": [
              "15"
            ]
          },
          "metadata": {
            "tags": []
          }
        }
      ]
    },
    {
      "cell_type": "code",
      "metadata": {
        "id": "lPw_2dn9XnQO",
        "colab_type": "code",
        "colab": {}
      },
      "source": [
        "my_H <- 157"
      ],
      "execution_count": null,
      "outputs": []
    },
    {
      "cell_type": "code",
      "metadata": {
        "id": "SKni3X49Ym_r",
        "colab_type": "code",
        "colab": {}
      },
      "source": [
        "my_W <- 50"
      ],
      "execution_count": null,
      "outputs": []
    },
    {
      "cell_type": "code",
      "metadata": {
        "id": "phPAcY4NZAoC",
        "colab_type": "code",
        "colab": {
          "base_uri": "https://localhost:8080/",
          "height": 34
        },
        "outputId": "d755609b-b201-47ea-be1f-7623a5e12c17"
      },
      "source": [
        "my_W/(0.01 * 0.01 * my_H * my_H)"
      ],
      "execution_count": null,
      "outputs": [
        {
          "output_type": "display_data",
          "data": {
            "text/plain": [
              "[1] 20.2848"
            ],
            "text/latex": "20.2847985719502",
            "text/markdown": "20.2847985719502",
            "text/html": [
              "20.2847985719502"
            ]
          },
          "metadata": {
            "tags": []
          }
        }
      ]
    },
    {
      "cell_type": "code",
      "metadata": {
        "id": "o9KhP0zlZX8J",
        "colab_type": "code",
        "colab": {}
      },
      "source": [
        "first_name <- \"MeiJun\""
      ],
      "execution_count": null,
      "outputs": []
    },
    {
      "cell_type": "code",
      "metadata": {
        "id": "wkdcish4Zn3y",
        "colab_type": "code",
        "colab": {
          "base_uri": "https://localhost:8080/",
          "height": 34
        },
        "outputId": "4214b73e-b181-4e7c-f3af-0ed65b8c1603"
      },
      "source": [
        "first_name"
      ],
      "execution_count": null,
      "outputs": [
        {
          "output_type": "display_data",
          "data": {
            "text/plain": [
              "[1] \"MeiJun\""
            ],
            "text/latex": "'MeiJun'",
            "text/markdown": "'MeiJun'",
            "text/html": [
              "'MeiJun'"
            ]
          },
          "metadata": {
            "tags": []
          }
        }
      ]
    },
    {
      "cell_type": "code",
      "metadata": {
        "id": "7VNfV2C9bNmK",
        "colab_type": "code",
        "colab": {
          "base_uri": "https://localhost:8080/",
          "height": 34
        },
        "outputId": "e9fa53d7-62d8-420e-d4c6-18080faee3cd"
      },
      "source": [
        "paste0(\"我的名字\",first_name,\"我的身高\",my_H,\"我的體重\",my_W,\"我的BMI\",my_W/(0.01 * 0.01 * my_H * my_H))"
      ],
      "execution_count": null,
      "outputs": [
        {
          "output_type": "display_data",
          "data": {
            "text/plain": [
              "[1] \"我的名字MeiJun我的身高157我的體重50我的BMI20.2847985719502\""
            ],
            "text/latex": "'我的名字MeiJun我的身高157我的體重50我的BMI20.2847985719502'",
            "text/markdown": "'我的名字MeiJun我的身高157我的體重50我的BMI20.2847985719502'",
            "text/html": [
              "'我的名字MeiJun我的身高157我的體重50我的BMI20.2847985719502'"
            ]
          },
          "metadata": {
            "tags": []
          }
        }
      ]
    }
  ]
}