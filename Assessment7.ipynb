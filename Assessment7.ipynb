{
  "nbformat": 4,
  "nbformat_minor": 0,
  "metadata": {
    "colab": {
      "name": "Assessment7.ipynb",
      "provenance": [],
      "collapsed_sections": [],
      "include_colab_link": true
    },
    "kernelspec": {
      "name": "ir",
      "display_name": "R"
    }
  },
  "cells": [
    {
      "cell_type": "markdown",
      "metadata": {
        "id": "view-in-github",
        "colab_type": "text"
      },
      "source": [
        "<a href=\"https://colab.research.google.com/github/Allison-Lin/BigData/blob/master/Assessment7.ipynb\" target=\"_parent\"><img src=\"https://colab.research.google.com/assets/colab-badge.svg\" alt=\"Open In Colab\"/></a>"
      ]
    },
    {
      "cell_type": "code",
      "metadata": {
        "id": "BeQ_KFFzlAb4",
        "outputId": "b93bfae7-46a6-4eba-f6a7-6ab20b8a073a",
        "colab": {
          "base_uri": "https://localhost:8080/"
        }
      },
      "source": [
        "install.packages(\"readr\")\n",
        "library(readr)"
      ],
      "execution_count": null,
      "outputs": [
        {
          "output_type": "stream",
          "text": [
            "Installing package into ‘/usr/local/lib/R/site-library’\n",
            "(as ‘lib’ is unspecified)\n",
            "\n",
            "Warning message in install.packages(\"readr\"):\n",
            "“installation of package ‘readr’ had non-zero exit status”\n"
          ],
          "name": "stderr"
        }
      ]
    },
    {
      "cell_type": "code",
      "metadata": {
        "id": "OmLaVzKFVGwu"
      },
      "source": [
        "dataset <- read.csv(\"臺南市交通意外30天內死亡人數及受傷人數.csv\")"
      ],
      "execution_count": 12,
      "outputs": []
    },
    {
      "cell_type": "code",
      "metadata": {
        "id": "eGq5hYKlwNFd",
        "outputId": "0dfd8105-71ec-4352-94ec-b837246a7166",
        "colab": {
          "base_uri": "https://localhost:8080/"
        }
      },
      "source": [
        "str(dataset)"
      ],
      "execution_count": 13,
      "outputs": [
        {
          "output_type": "stream",
          "text": [
            "'data.frame':\t18 obs. of  4 variables:\n",
            " $ 年度    : int  108 108 108 108 108 108 108 108 108 108 ...\n",
            " $ 月份    : int  1 2 3 4 5 6 7 8 9 10 ...\n",
            " $ 受傷人數: int  5317 4320 4685 4598 4385 4649 4548 3849 3976 4103 ...\n",
            " $ 死亡人數: int  29 18 22 23 22 26 23 18 21 34 ...\n"
          ],
          "name": "stdout"
        }
      ]
    },
    {
      "cell_type": "code",
      "metadata": {
        "id": "qv7T8oiGkqXi",
        "outputId": "e6b4eb11-80c9-4b72-99e7-9bcb19e0e9f0",
        "colab": {
          "base_uri": "https://localhost:8080/",
          "height": 200
        }
      },
      "source": [
        "head(dataset)"
      ],
      "execution_count": 14,
      "outputs": [
        {
          "output_type": "display_data",
          "data": {
            "text/plain": [
              "  年度 月份 受傷人數 死亡人數\n",
              "1 108  1    5317     29      \n",
              "2 108  2    4320     18      \n",
              "3 108  3    4685     22      \n",
              "4 108  4    4598     23      \n",
              "5 108  5    4385     22      \n",
              "6 108  6    4649     26      "
            ],
            "text/latex": "A data.frame: 6 × 4\n\\begin{tabular}{r|llll}\n  & 年度 & 月份 & 受傷人數 & 死亡人數\\\\\n  & <int> & <int> & <int> & <int>\\\\\n\\hline\n\t1 & 108 & 1 & 5317 & 29\\\\\n\t2 & 108 & 2 & 4320 & 18\\\\\n\t3 & 108 & 3 & 4685 & 22\\\\\n\t4 & 108 & 4 & 4598 & 23\\\\\n\t5 & 108 & 5 & 4385 & 22\\\\\n\t6 & 108 & 6 & 4649 & 26\\\\\n\\end{tabular}\n",
            "text/markdown": "\nA data.frame: 6 × 4\n\n| <!--/--> | 年度 &lt;int&gt; | 月份 &lt;int&gt; | 受傷人數 &lt;int&gt; | 死亡人數 &lt;int&gt; |\n|---|---|---|---|---|\n| 1 | 108 | 1 | 5317 | 29 |\n| 2 | 108 | 2 | 4320 | 18 |\n| 3 | 108 | 3 | 4685 | 22 |\n| 4 | 108 | 4 | 4598 | 23 |\n| 5 | 108 | 5 | 4385 | 22 |\n| 6 | 108 | 6 | 4649 | 26 |\n\n",
            "text/html": [
              "<table>\n",
              "<caption>A data.frame: 6 × 4</caption>\n",
              "<thead>\n",
              "\t<tr><th></th><th scope=col>年度</th><th scope=col>月份</th><th scope=col>受傷人數</th><th scope=col>死亡人數</th></tr>\n",
              "\t<tr><th></th><th scope=col>&lt;int&gt;</th><th scope=col>&lt;int&gt;</th><th scope=col>&lt;int&gt;</th><th scope=col>&lt;int&gt;</th></tr>\n",
              "</thead>\n",
              "<tbody>\n",
              "\t<tr><th scope=row>1</th><td>108</td><td>1</td><td>5317</td><td>29</td></tr>\n",
              "\t<tr><th scope=row>2</th><td>108</td><td>2</td><td>4320</td><td>18</td></tr>\n",
              "\t<tr><th scope=row>3</th><td>108</td><td>3</td><td>4685</td><td>22</td></tr>\n",
              "\t<tr><th scope=row>4</th><td>108</td><td>4</td><td>4598</td><td>23</td></tr>\n",
              "\t<tr><th scope=row>5</th><td>108</td><td>5</td><td>4385</td><td>22</td></tr>\n",
              "\t<tr><th scope=row>6</th><td>108</td><td>6</td><td>4649</td><td>26</td></tr>\n",
              "</tbody>\n",
              "</table>\n"
            ]
          },
          "metadata": {
            "tags": []
          }
        }
      ]
    },
    {
      "cell_type": "code",
      "metadata": {
        "id": "ctksMAzUlxay",
        "outputId": "d8f927b0-fe8a-4b9a-b635-3974d7d85b77",
        "colab": {
          "base_uri": "https://localhost:8080/"
        }
      },
      "source": [
        "install.packages(\"ggplot2\")\n",
        "library(ggplot2)"
      ],
      "execution_count": 15,
      "outputs": [
        {
          "output_type": "stream",
          "text": [
            "Installing package into ‘/usr/local/lib/R/site-library’\n",
            "(as ‘lib’ is unspecified)\n",
            "\n"
          ],
          "name": "stderr"
        }
      ]
    },
    {
      "cell_type": "code",
      "metadata": {
        "id": "UMxjMX6InOVi",
        "outputId": "4bbed57e-f8e4-4415-eaaf-f533374d6934",
        "colab": {
          "base_uri": "https://localhost:8080/"
        }
      },
      "source": [
        "install.packages(\"showtext\")\n",
        "library(showtext)\n",
        "showtext.auto(enable = TRUE)"
      ],
      "execution_count": 6,
      "outputs": [
        {
          "output_type": "stream",
          "text": [
            "Installing package into ‘/usr/local/lib/R/site-library’\n",
            "(as ‘lib’ is unspecified)\n",
            "\n",
            "also installing the dependencies ‘sysfonts’, ‘showtextdb’\n",
            "\n",
            "\n",
            "Loading required package: sysfonts\n",
            "\n",
            "Loading required package: showtextdb\n",
            "\n",
            "'showtext.auto()' is now renamed to 'showtext_auto()'\n",
            "The old version still works, but consider using the new function in future code\n",
            "\n"
          ],
          "name": "stderr"
        }
      ]
    },
    {
      "cell_type": "code",
      "metadata": {
        "id": "4bSKDkReoFzL",
        "outputId": "666bf085-9c4e-492a-dee0-5900fb907f09",
        "colab": {
          "base_uri": "https://localhost:8080/",
          "height": 437
        }
      },
      "source": [
        "ggplot(dataset,aes(月份,死亡人數))+geom_point()"
      ],
      "execution_count": 11,
      "outputs": [
        {
          "output_type": "display_data",
          "data": {
            "image/png": "[encoded data removed]",
            "text/plain": [
              "plot without title"
            ]
          },
          "metadata": {
            "tags": [],
            "image/png": {
              "width": 420,
              "height": 420
            }
          }
        }
      ]
    },
    {
      "cell_type": "code",
      "metadata": {
        "id": "WbHWXMvJtUrA"
      },
      "source": [
        "dataset$月份 <- as.factor(dataset$月份)"
      ],
      "execution_count": 26,
      "outputs": []
    },
    {
      "cell_type": "code",
      "metadata": {
        "id": "ayefj4B4VMAu",
        "outputId": "b0f5238e-46e9-4b10-ab5c-1ee7462ca05e",
        "colab": {
          "base_uri": "https://localhost:8080/",
          "height": 437
        }
      },
      "source": [
        "ggplot(dataset,aes(月份,死亡人數))+geom_boxplot()"
      ],
      "execution_count": 36,
      "outputs": [
        {
          "output_type": "display_data",
          "data": {
            "image/png": "[encoded data removed]",
            "text/plain": [
              "plot without title"
            ]
          },
          "metadata": {
            "tags": [],
            "image/png": {
              "width": 420,
              "height": 420
            }
          }
        }
      ]
    },
    {
      "cell_type": "code",
      "metadata": {
        "id": "xxGnOgMCVYuk",
        "outputId": "81c03a2a-8a7e-42d7-ff8c-f12621b49dce",
        "colab": {
          "base_uri": "https://localhost:8080/",
          "height": 437
        }
      },
      "source": [
        "ggplot()+geom_bar(data=dataset,aes(x=月份,y=死亡人數),stat=\"identity\")"
      ],
      "execution_count": 38,
      "outputs": [
        {
          "output_type": "display_data",
          "data": {
            "image/png": "[encoded data removed]",
            "text/plain": [
              "plot without title"
            ]
          },
          "metadata": {
            "tags": [],
            "image/png": {
              "width": 420,
              "height": 420
            }
          }
        }
      ]
    },
    {
      "cell_type": "code",
      "metadata": {
        "id": "7BrR6G95VwUM",
        "outputId": "874dae4a-e147-4242-9f9b-43bb0b21e944",
        "colab": {
          "base_uri": "https://localhost:8080/",
          "height": 437
        }
      },
      "source": [
        "ggplot(dataset,aes(月份,死亡人數))+geom_line()"
      ],
      "execution_count": 39,
      "outputs": [
        {
          "output_type": "display_data",
          "data": {
            "image/png": "[encoded data removed]",
            "text/plain": [
              "plot without title"
            ]
          },
          "metadata": {
            "tags": [],
            "image/png": {
              "width": 420,
              "height": 420
            }
          }
        }
      ]
    }
  ]
}